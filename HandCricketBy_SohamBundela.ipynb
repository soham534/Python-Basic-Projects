import random as rd

# Initialize variables
player_runs = 0
computer_runs = 0

# Toss Function
def toss():
    player_choice = input("Choose ODD or EVEN: ").upper()
    player_num = int(input("Enter your number (1-6): "))
    computer_num = rd.randint(1, 6)
    print("Computer chose:", computer_num)

    total = player_num + computer_num
    result = "EVEN" if total % 2 == 0 else "ODD"
    print(f"Sum = {total}, which is {result}")

    if result == player_choice:
        print("You won the toss!")
        player_decision = input("Do you want to BATTING or BALLING? ").upper()
        return player_decision, "BALLING" if player_decision == "BATTING" else "BATTING"
    else:
        print("Computer won the toss!")
        computer_decision = rd.choice(["BATTING", "BALLING"])
        print(f"Computer chose to {computer_decision}")
        return ("BALLING" if computer_decision == "BATTING" else "BATTING"), computer_decision

# Batting Function
def batting(batsman, target=None):
    runs = 0
    while True:
        if batsman == "PLAYER":
            player_input = int(input("Enter your number (1-6): "))
            computer_input = rd.randint(1, 6)
            print("Computer played:", computer_input)
        else:
            computer_input = rd.randint(1, 6)
            player_input = int(input("Enter your number (1-6): "))
            print("Computer played:", computer_input)

        if player_input == computer_input:
            print(f"{batsman} is OUT!")
            break
        else:
            run_scored = player_input if batsman == "PLAYER" else computer_input
            runs += run_scored
            print(f"{batsman} scored: {run_scored} | Total: {runs}")
            if target is not None and runs > target:
                print(f"{batsman} has chased the target!")
                break
    return runs

# Game Start
print("Welcome to Hand Cricket")
player_stat, computer_stat = toss()

# First Innings
print("\n--- First Innings Begins ---")
if player_stat == "BATTING":
    player_runs = batting("PLAYER")
    print(f"End of Innings: Player scored {player_runs}")
    print("\n--- Second Innings: Computer Bats ---")
    computer_runs = batting("COMPUTER", target=player_runs)
else:
    computer_runs = batting("COMPUTER")
    print(f"End of Innings: Computer scored {computer_runs}")
    print("\n--- Second Innings: Player Bats ---")
    player_runs = batting("PLAYER", target=computer_runs)

# Result
print("\nMATCH RESULT")
print(f"Player Score: {player_runs}")
print(f"Computer Score: {computer_runs}")

if player_runs > computer_runs:
    print("You Win!")
elif player_runs < computer_runs:
    print("Computer Wins!")
else:
    print("It's a Tie!")
