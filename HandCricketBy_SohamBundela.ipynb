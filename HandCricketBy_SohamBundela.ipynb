{
  "nbformat": 4,
  "nbformat_minor": 0,
  "metadata": {
    "colab": {
      "provenance": [],
      "authorship_tag": "ABX9TyOCRL9+fweA/ELI+tdKXttn",
      "include_colab_link": true
    },
    "kernelspec": {
      "name": "python3",
      "display_name": "Python 3"
    },
    "language_info": {
      "name": "python"
    }
  },
  "cells": [
    {
      "cell_type": "markdown",
      "metadata": {
        "id": "view-in-github",
        "colab_type": "text"
      },
      "source": [
        "<a href=\"https://colab.research.google.com/github/soham534/Python-Basic-Projects/blob/main/HandCricketBy_SohamBundela.ipynb\" target=\"_parent\"><img src=\"https://colab.research.google.com/assets/colab-badge.svg\" alt=\"Open In Colab\"/></a>"
      ]
    },
    {
      "cell_type": "code",
      "execution_count": null,
      "metadata": {
        "colab": {
          "base_uri": "https://localhost:8080/"
        },
        "id": "TqB58MwEsUpW",
        "outputId": "276a8410-9288-40f4-fa4e-df4d366fcdc4"
      },
      "outputs": [
        {
          "metadata": {
            "tags": null
          },
          "name": "stdout",
          "output_type": "stream",
          "text": [
            "Welcome to Hand Cricket\n",
            "Computer chose: 2\n",
            "Sum = 5, which is ODD\n",
            "You won the toss!\n",
            "\n",
            "--- First Innings Begins ---\n",
            "Computer played: 2\n",
            "COMPUTER scored: 2 | Total: 2\n",
            "Computer played: 3\n",
            "COMPUTER scored: 3 | Total: 5\n",
            "Computer played: 1\n",
            "COMPUTER scored: 1 | Total: 6\n",
            "Computer played: 1\n",
            "COMPUTER scored: 1 | Total: 7\n"
          ]
        }
      ],
      "source": [
        "import random as rd\n",
        "\n",
        "# Initialize variables\n",
        "player_runs = 0\n",
        "computer_runs = 0\n",
        "\n",
        "# Toss Function\n",
        "def toss():\n",
        "    player_choice = input(\"Choose ODD or EVEN: \").upper()\n",
        "    player_num = int(input(\"Enter your number (1-6): \"))\n",
        "    computer_num = rd.randint(1, 6)\n",
        "    print(\"Computer chose:\", computer_num)\n",
        "\n",
        "    total = player_num + computer_num\n",
        "    result = \"EVEN\" if total % 2 == 0 else \"ODD\"\n",
        "    print(f\"Sum = {total}, which is {result}\")\n",
        "\n",
        "    if result == player_choice:\n",
        "        print(\"You won the toss!\")\n",
        "        player_decision = input(\"Do you want to BATTING or BALLING? \").upper()\n",
        "        return player_decision, \"BALLING\" if player_decision == \"BATTING\" else \"BATTING\"\n",
        "    else:\n",
        "        print(\"Computer won the toss!\")\n",
        "        computer_decision = rd.choice([\"BATTING\", \"BALLING\"])\n",
        "        print(f\"Computer chose to {computer_decision}\")\n",
        "        return (\"BALLING\" if computer_decision == \"BATTING\" else \"BATTING\"), computer_decision\n",
        "\n",
        "# Batting Function\n",
        "def batting(batsman, target=None):\n",
        "    runs = 0\n",
        "    while True:\n",
        "        if batsman == \"PLAYER\":\n",
        "            player_input = int(input(\"Enter your number (1-6): \"))\n",
        "            computer_input = rd.randint(1, 6)\n",
        "            print(\"Computer played:\", computer_input)\n",
        "        else:\n",
        "            computer_input = rd.randint(1, 6)\n",
        "            player_input = int(input(\"Enter your number (1-6): \"))\n",
        "            print(\"Computer played:\", computer_input)\n",
        "\n",
        "        if player_input == computer_input:\n",
        "            print(f\"{batsman} is OUT!\")\n",
        "            break\n",
        "        else:\n",
        "            run_scored = player_input if batsman == \"PLAYER\" else computer_input\n",
        "            runs += run_scored\n",
        "            print(f\"{batsman} scored: {run_scored} | Total: {runs}\")\n",
        "            if target is not None and runs > target:\n",
        "                print(f\"{batsman} has chased the target!\")\n",
        "                break\n",
        "    return runs\n",
        "\n",
        "# Game Start\n",
        "print(\"Welcome to Hand Cricket\")\n",
        "player_stat, computer_stat = toss()\n",
        "\n",
        "# First Innings\n",
        "print(\"\\n--- First Innings Begins ---\")\n",
        "if player_stat == \"BATTING\":\n",
        "    player_runs = batting(\"PLAYER\")\n",
        "    print(f\"End of Innings: Player scored {player_runs}\")\n",
        "    print(\"\\n--- Second Innings: Computer Bats ---\")\n",
        "    computer_runs = batting(\"COMPUTER\", target=player_runs)\n",
        "else:\n",
        "    computer_runs = batting(\"COMPUTER\")\n",
        "    print(f\"End of Innings: Computer scored {computer_runs}\")\n",
        "    print(\"\\n--- Second Innings: Player Bats ---\")\n",
        "    player_runs = batting(\"PLAYER\", target=computer_runs)\n",
        "\n",
        "# Result\n",
        "print(\"\\nMATCH RESULT\")\n",
        "print(f\"Player Score: {player_runs}\")\n",
        "print(f\"Computer Score: {computer_runs}\")\n",
        "\n",
        "if player_runs > computer_runs:\n",
        "    print(\"You Win!\")\n",
        "elif player_runs < computer_runs:\n",
        "    print(\"Computer Wins!\")\n",
        "else:\n",
        "    print(\"It's a Tie!\")\n"
      ]
    },
    {
      "cell_type": "code",
      "source": [],
      "metadata": {
        "colab": {
          "base_uri": "https://localhost:8080/",
          "height": 36
        },
        "id": "fEDJiCs1w6sJ",
        "outputId": "26122a5b-00bb-49ea-b0a1-a318297d1b0a"
      },
      "execution_count": null,
      "outputs": [
        {
          "output_type": "execute_result",
          "data": {
            "text/plain": [
              "'<function <lambda> at 0x7f6359968550>'"
            ],
            "application/vnd.google.colaboratory.intrinsic+json": {
              "type": "string"
            }
          },
          "metadata": {},
          "execution_count": 14
        }
      ]
    }
  ]
}